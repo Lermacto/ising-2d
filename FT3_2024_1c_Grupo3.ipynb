{
  "cells": [
    {
      "cell_type": "markdown",
      "metadata": {
        "id": "g9cydY_bKQkm"
      },
      "source": [
        "**<h1>Práctica computacional: modelo de Ising en 2D</h1>**\n",
        "\n",
        "El objetivo de la práctica es calcular varios observables (magnetización, energía, susceptibilidad, calor específico) de una red de Ising bidimensional en función de la temperatura. También calcularemos la función de correlación y estudiaremos la dependencia de la longitud de correlación con la temperatura. Usaremos unidades en las que $J=k=1$.\n",
        "\n",
        "Más precisamente, el objetivo es ver cómo, si $T\\approx 2.27$ y si la red es lo suficientemente grande, los observables tienen un comportamiento *abrupto*. En una red finita, no esperamos encontrar una transición de fase, pero los experimentos con redes finitas deben apuntar en esa dirección.\n",
        "\n",
        "Es posible calcular la función de partición exacta para redes de hasta unos cientos de espines por lado. Para una red de $512 \\times 512$ espines se necesitan unos 8 GB de memoria para guardar la función de partición. Desde un punto de vista práctico, las cosas rápidamente se vuelven inmanejables. Sin embargo, los experimentos numéricos pueden llegar mucho más allá de una red de $512 \\times 512$. En lugar de calcular la función de partición exacta, lo que hacemos es generar estados aleatorios de la red distribuidos según el ensamble canónico, y tomar promedios sobre varios de esos estados. Para lograr eso, partimos de un estado inicial cualquiera y le aplicamos el **algoritmo de Metropolis**, que consta de los siguientes pasos:\n",
        "\n",
        "1.   Elegimos un sitio de la red al azar.\n",
        "2.   Calculamos la diferencia de energía $\\Delta E$ que resultaría de dar vuelta a ese espín.\n",
        "3. Si $\\Delta E\\le 0$, le damos vuelta al espín; si $\\Delta E>0$, le damos vuelta al espín con probabilidad $e^{-\\beta\\Delta E}$.\n",
        "\n",
        "Al estado resultante le volvemos a aplicar el algoritmo, y así sucesivamente. Después de ser iterado muchas veces, el algoritmo empieza a generar estados distribuidos según el ensamble canónico. Tomando promedios sobre varios de esos estados, podremos calcular los observables de interés.\n",
        "\n",
        "La práctica tiene en cuenta la finitud de la vida humana, así que el objetivo no es hacer experimentos con redes desmesuradamente grandes.\n",
        "\n",
        "Un consejo, para que administren su tiempo. Pueden usar la biblioteca **tqdm** para mostrar barras de progreso. Como muestra la celda de abajo."
      ]
    },
    {
      "cell_type": "code",
      "execution_count": null,
      "metadata": {
        "id": "edJhuaGD6-6c"
      },
      "outputs": [],
      "source": [
        "import numpy as np\n",
        "from tqdm import tqdm\n",
        "n = 0\n",
        "nmax = 10000000\n",
        "\n",
        "for i in tqdm(range(1,nmax)):\n",
        "  n += 1/(i*i)\n",
        "\n",
        "print()\n",
        "print(np.sqrt(6*n))\n",
        "print(np.pi)"
      ]
    },
    {
      "cell_type": "markdown",
      "metadata": {
        "id": "PNX7FYMVWIvh"
      },
      "source": [
        "# Bibliotecas\n",
        "\n",
        "Importamos las bibliotecas de Python que vamos a usar: numpy, que permite definir y operar con matrices, genera números aleatorios, incluye todo tipo de funciones matemáticas, etc.; matplotlib.pyplot, que permite hacer gráficos; y numba, que es un compilador que hace que las funciones corran mucho más rápido. También importamos la función curve_fit del paquete scipy.optimize, que nos servirá para hacer ajustes."
      ]
    },
    {
      "cell_type": "code",
      "execution_count": null,
      "metadata": {
        "id": "sS_tJRpCC7YZ"
      },
      "outputs": [],
      "source": [
        "import numpy as np\n",
        "from numba import njit, prange\n",
        "import matplotlib.pyplot as plt\n",
        "import pandas as pd\n",
        "from scipy.optimize import curve_fit\n",
        "from tqdm.notebook import tqdm\n",
        "from matplotlib.gridspec import GridSpec\n",
        "import matplotlib.cm as cm\n",
        "\n",
        "COLOR = \"black\"\n",
        "%config InlineBackend.figure_format = \"retina\"  # For high dpi figures in notebook\n",
        "plt.rcParams[\"figure.dpi\"] = 50\n",
        "plt.rcParams[\"figure.figsize\"] = (28, 18)\n",
        "\n",
        "plt.rcParams[\"font.family\"] = \"serif\"\n",
        "plt.rcParams[\"mathtext.fontset\"] = \"cm\"\n",
        "\n",
        "plt.rcParams[\"figure.dpi\"] = 50\n",
        "plt.rcParams[\"axes.grid\"] = True\n",
        "# plt.rcParams[\"axes.facecolor\"] = \"lightgray\"  # Disgusting -Agus. :( -Arcus\n",
        "plt.rcParams[\"legend.fontsize\"] = 25\n",
        "plt.rcParams[\"axes.titlesize\"] = 60\n",
        "plt.rcParams[\"axes.labelsize\"] = 50\n",
        "plt.rcParams[\"ytick.labelsize\"] = 20\n",
        "plt.rcParams[\"xtick.labelsize\"] = 20\n",
        "\n",
        "plt.rcParams[\"axes.grid\"] = True\n",
        "\n",
        "plt.rcParams[\"text.color\"] = COLOR\n",
        "plt.rcParams[\"text.color\"] = COLOR\n",
        "plt.rcParams[\"axes.labelcolor\"] = COLOR\n",
        "plt.rcParams[\"xtick.color\"] = COLOR\n",
        "plt.rcParams[\"ytick.color\"] = COLOR\n",
        "plt.rcParams[\"grid.color\"] = COLOR\n",
        "plt.rcParams[\"text.latex.preamble\"] = \"\\n\".join([r\"\\usepackage[version=3]{mhchem}\"])"
      ]
    },
    {
      "cell_type": "markdown",
      "metadata": {
        "id": "NCtfL7LvVg1n"
      },
      "source": [
        "# Funciones\n",
        "\n",
        "Aquí van a tener que definir dos funciones. La primera, **`h(S)`**, calcula la energía por partícula de la red en el estado **`S`** (nótese que **`S`** es una matriz de unos y menos unos). Asumimos que no hay campo magnético y usamos condiciones de contorno periódicas, de manera que el primer espín de una fila/columna es vecino del último. Si la red es $L\\times L$, la energía total es entonces\n",
        "\n",
        "$$H(S)=-\\sum_{i,j=1}^L S_{ij}(S_{i-1 j}+S_{ij-1}),$$\n",
        "\n",
        "y la energía por partícula es esto dividido por $L^2$. La segunda función que tienen que definir,  **`metropolis(S,prob)`**, aplica el algoritmo de Metropolis al estado **`S`** y devuelve tres cosas: un nuevo estado **`S`**, el incremento de magnetización **`dm`** y el incremento de energía por partícula **`de`**. Deben notar que los únicos valores positivos que puede tomar el incremento de energía $\\Delta E$ resultante de dar vuelta a un espín son $\\Delta E=4$ y $\\Delta E=8$; el argumento **`prob`** es un vector de dos componentes, **`prob[0]`** y **`prob[1]`**, que son las probabilidades con las que daremos vuelta al espín si el incremento de energía es $4$ y $8$ respectivamente. Algunos consejos:\n",
        "\n",
        "\n",
        "*   Para implementar las condiciones de contorno periódicas, conviene recordar que las listas de Python empiezan con el elemento $0$. Si la red tiene lado $L$, el último elemento es el $L - 1$. Alternativamente,  el elemento $-1$ es el último, el $-2$ el penúltimo, etc. También les va a ser útil la función **`%`**, que calcula el resto de la división entre dos enteros (es decir, **`m%n`** es el resto de la división entre **`m`** y **`n`**). Esto es útil para implementar las condiciones de contorno periódicas sin tener que tratar de manera distinta a los espines que están en los bordes de la red.\n",
        "*   ¡Sean económicos! Para calcular $\\Delta E$ no deben calcular la energía total de los dos estados (el estado original y el estado con el espín seleccionado dado vuelta) y restar, sino darse cuenta de que esta cantidad sólo involucra al estado del espín seleccionado y el de sus cuatro primeros vecinos.\n",
        "*   Para dar vuelta a un espín con probabilidad $p$, lo que hacemos es generar un número aleatorio entre $0$ y $1$ y dar vuelta el espín si ese número es menor que $p$.\n",
        "\n",
        "Una vez hayan definido estas funciones, primero de todo asegúrense de que andan bien probándolas con una matriz $3\\times 3$, por ejemplo, tomando **`S=np.ones((3,3))`**. Ahí pueden calcular a mano la energía por partícula y chequear que **`h(S)`** da el resultado correcto. También pueden asegurarse de que, partiendo de esta misma matriz, la funcion **`metropolis(S,prob)`** da vuelta a algún espín más fácilmente a temperaturas altas que a temperaturas bajas, y que los incrementos de magnetización y energía por partícula que calcula son los correctos. Una vez hayan hecho eso, redefinan la función **`metropolis(S,prob)`** de manera que aplique el algoritmo de Metropolis no una sola vez sino tantas como sitios tiene la red. Es decir, su función definitiva debería aplicar el algoritmo al estado original, y después volvérselo a aplicar al estado resultante, y así tantas veces como sitios tiene la red. De vuelta, comprueben que esta función anda bien con una matriz sencilla. El proceso de repetir el algoritmo elemental $L \\times L$ veces es lo que se llama **un paso** de Montecarlo."
      ]
    },
    {
      "cell_type": "code",
      "execution_count": null,
      "metadata": {
        "id": "8jy9JAWh4gjo"
      },
      "outputs": [],
      "source": [
        "# def h, calculate_dE, metropolis\n",
        "\n",
        "@njit\n",
        "def h(S: np.ndarray) -> float:\n",
        "    \"\"\"Calcula la energía (por partícula) de la red en el estado S.\"\"\"\n",
        "    H = 0\n",
        "    for i in np.arange(S.shape[0]):\n",
        "        for j in np.arange(S.shape[1]):\n",
        "            H += -S[i, j] * (S[i - 1, j] + S[i, j - 1])\n",
        "    return H / S.size  # Aca S.size ya nos dá la normalización por L^2\n",
        "\n",
        "\n",
        "@njit\n",
        "def calculate_dE(s0: int, i: int, j: int, S: np.ndarray) -> int:\n",
        "    L = S.shape[0]\n",
        "    upper_i = (i + 1) % L  # Condición de periodicidad\n",
        "    upper_j = (j + 1) % L  # Condición de periodicidad\n",
        "    #    s3\n",
        "    # s4 s0 s2\n",
        "    #    s1\n",
        "    s1, s2, s3, s4 = S[upper_i, j], S[i, upper_j], S[i - 1, j], S[i, j - 1]\n",
        "    return 2 * s0 * (s1 + s2 + s3 + s4)\n",
        "\n",
        "\n",
        "@njit\n",
        "def metropolis(S: np.ndarray, prob: np.ndarray) -> tuple[np.ndarray, float, float]:\n",
        "    # Aplica el algoritmo de Metropolis al estado S\n",
        "    dm = 0\n",
        "    de = 0\n",
        "    # La consigna dice que hay que aplicar el algoritmo de metrópolis por cada\n",
        "    # sitio en la red, es decir, L cuadrado veces.\n",
        "    for _ in range(S.size):\n",
        "        i, j = np.random.choice(S.shape[0], 2)  # Las coordenadas al azar en [0, L)²\n",
        "        sij = S[i, j]  # El spin de esa posición\n",
        "        opp_sij = -sij  # El spin al que podría transicionar\n",
        "        dE_sij = calculate_dE(sij, i, j, S)\n",
        "        # La diferencia de energía al transicionar de sij a opp_sij\n",
        "        p = np.random.random(1)\n",
        "        if (  # El spin cambia su estado si:\n",
        "            dE_sij <= 0  # La diferencia de energía es negativa o cero\n",
        "            or (dE_sij == 4 and p < prob[0])  # Con prob[0] si dE = 4\n",
        "            or (dE_sij == 8 and p < prob[1])  # Con prob[1] si dE = 8\n",
        "        ):\n",
        "            S[i, j] = opp_sij  # El spin cambia de estado\n",
        "            de += dE_sij\n",
        "            dm += opp_sij\n",
        "    return S, dm / S.size, de / S.size"
      ]
    },
    {
      "cell_type": "markdown",
      "metadata": {
        "id": "lUb7inIr38Vm"
      },
      "source": [
        "**Explicación:** usen esta celda para explicar lo que hicieron\n",
        "\n",
        "Hicimos esto\n",
        "\n"
      ]
    },
    {
      "cell_type": "markdown",
      "metadata": {
        "id": "lTqTodmpZpcF"
      },
      "source": [
        "# Termalización\n",
        "\n",
        "Partiendo de un cierto estado inicial, estudiamos cuántos pasos son necesarios para que el sistema llegue al equilibrio, es decir, para que los distintos estados empiecen a estar distribuidos según el ensamble canónico. Para eso, graficamos la magnetización y la energía por partícula en función del paso; el equilibrio se alcanza cuando estas cantidades empiezan a fluctuar alrededor de un valor fijo, en lugar de ser netamente crecientes o decrecientes.\n",
        "El número de pasos necesarios para alcanzar el equilibrio dependerá de la temperatura, así que hay que hay que hacer el análisis para varias temperaturas. También puede depender del lado de la red, así que cuando cambien el valor de este parámetro van a tener que rehacer este análisis. Fíjense que, cerca de la temperatura crítica, la magnetización oscila entre $1$ y $-1$."
      ]
    },
    {
      "cell_type": "code",
      "execution_count": null,
      "metadata": {
        "colab": {
          "base_uri": "https://localhost:8080/",
          "height": 388
        },
        "id": "NXJ0JVAU6VUC",
        "outputId": "dee57887-3553-4db6-8cbf-6ec7529b4454"
      },
      "outputs": [
        {
          "data": {
            "image/png": "[encoded data removed]",
            "text/plain": [
              "<Figure size 864x432 with 3 Axes>"
            ]
          },
          "metadata": {
            "needs_background": "light",
            "tags": []
          },
          "output_type": "display_data"
        }
      ],
      "source": [
        "L = 32  # Lado de la red\n",
        "T = 2.3\n",
        "beta = 1 / T\n",
        "prob = np.array([np.exp(-4 * beta), np.exp(-8 * beta)])\n",
        "\n",
        "# Estado inicial\n",
        "if T < 2.27:\n",
        "    S = np.ones((L, L), dtype=int)\n",
        "else:\n",
        "    S = 2 * np.random.randint(2, size=(L, L)) - 1\n",
        "\n",
        "\n",
        "n = 0\n",
        "n_check = 100\n",
        "historic_de = np.zeros(n_check)\n",
        "while (not n//n_check>0) and (np.abs(sum_de/(n_check)) > 1e-6):\n",
        "    S, _, de = metropolis(S, prob)\n",
        "    historic_de[n%n_check] = de\n",
        "    sum_de = np.sum(historic_de) \n",
        "    n+=1\n",
        "\n",
        "m = np.zeros(nequilibrio)  # magnetización en función del paso\n",
        "e = np.zeros(nequilibrio)  # energia por particula en funcion del paso\n",
        "m[0] = np.mean(S)\n",
        "e[0] = h(S)\n",
        "\n",
        "for n in range(1, nequilibrio):\n",
        "    S, dm, de = metropolis(S, prob)\n",
        "    m[n] = m[n - 1] + dm\n",
        "    e[n] = e[n - 1] + de\n",
        "\n",
        "plt.figure(figsize=(12, 6))\n",
        "plt.subplot(2, 2, 1)\n",
        "plt.plot(m)\n",
        "plt.ylabel(\"magnetizacion\")\n",
        "plt.subplot(2, 2, 3)\n",
        "plt.plot(e)\n",
        "plt.ylabel(\"energia\")\n",
        "plt.xlabel(\"paso\")\n",
        "plt.subplot(1, 2, 2)\n",
        "plt.imshow(S)  # plotea el estado final, dandole un color al 1 y otro al -1\n",
        "plt.show()"
      ]
    },
    {
      "cell_type": "code",
      "execution_count": null,
      "metadata": {},
      "outputs": [],
      "source": [
        "@njit\n",
        "def termalize_S(S, prob):\n",
        "    n = 0\n",
        "    n_check = 100\n",
        "    historic_de = np.zeros(n_check)\n",
        "    while (not n//n_check>0) and (np.abs(sum_de/(n_check)) > 1e-6):\n",
        "        S, _, de = metropolis(S, prob)\n",
        "        historic_de[n%n_check] = de\n",
        "        sum_de = np.sum(historic_de) \n",
        "        n+=1\n",
        "    return S"
      ]
    },
    {
      "cell_type": "markdown",
      "metadata": {
        "id": "OcvaGUd3dI0a"
      },
      "source": [
        "# Promedios\n",
        "\n",
        "Estudiamos cuántos pasos hacen falta para calcular buenos promedios. Para eso, graficamos el valor medio de la magnetización y la energía por partícula en función del número de pasos utilizados para calcularlo (empezando a contar después de haber llegado al equilibrio). Cuando el valor medio se haga constante, el número de pasos será suficiente. De vuelta, el número de pasos apropiado depende de la temperatura y del lado de la red. Van a ver que, cerca de la temperatura crítica, las fluctuaciones se hacen más grandes y por lo tanto es necesario promediar sobre un número más grande de pasos. Para librarnos de las fluctuaciones de la magnetización entre $1$ y $-1$ cerca de la temperatura crítica, que son inmanejables, lo que tomamos es **el valor medio de su módulo**."
      ]
    },
    {
      "cell_type": "code",
      "execution_count": null,
      "metadata": {
        "colab": {
          "base_uri": "https://localhost:8080/",
          "height": 280
        },
        "id": "yvAuAHy-9JgA",
        "outputId": "f4c8b2f2-d5e4-4404-f217-f08b29905ca0"
      },
      "outputs": [
        {
          "data": {
            "image/png": "[encoded data removed]",
            "text/plain": [
              "<Figure size 432x288 with 2 Axes>"
            ]
          },
          "metadata": {
            "needs_background": "light",
            "tags": []
          },
          "output_type": "display_data"
        }
      ],
      "source": [
        "L=30\n",
        "beta=1/2\n",
        "\n",
        "nequilibrio=1000 #Este valor lo decidimos en base a lo anterior\n",
        "npromedio=20000 #Numero de pasos tentativo para calcular promedios\n",
        "\n",
        "prob=np.array([np.exp(-4*beta),np.exp(-8*beta)])\n",
        "\n",
        "S=np.ones((L,L),dtype=int) #Estado inicial\n",
        "\n",
        "for n in range(nequilibrio):\n",
        "  S,dm,de=metropolis(S,prob) #Termalizamos\n",
        "\n",
        "m=np.zeros(npromedio)\n",
        "e=np.zeros(npromedio) #Magnetizacion y energia por particula en funcion del paso\n",
        "m[0]=np.mean(S)\n",
        "e[0]=h(S)\n",
        "\n",
        "mmedia=[abs(m[0])]\n",
        "emedia=[e[0]] #Valores medios en funcion del numero de pasos para promediar\n",
        "\n",
        "for n in range(1,npromedio):\n",
        "  S,dm,de=metropolis(S,prob)\n",
        "  m[n]=m[n-1]+dm\n",
        "  e[n]=e[n-1]+de\n",
        "  mmedia.append(np.mean(abs(m[0:n+1])))\n",
        "  emedia.append(np.mean(e[0:n+1]))\n",
        "\n",
        "plt.figure()\n",
        "plt.subplot(2,1,1)\n",
        "plt.plot(mmedia)\n",
        "plt.ylabel('magnet media')\n",
        "plt.subplot(2,1,2)\n",
        "plt.plot(emedia)\n",
        "plt.ylabel('energia media')\n",
        "plt.xlabel('número de pasos')\n",
        "plt.show()"
      ]
    },
    {
      "cell_type": "markdown",
      "metadata": {
        "id": "hbUP5bRql3nN"
      },
      "source": [
        "# Transición de fase\n",
        "\n",
        "Aquí hay que calcular la magnetización media, la energía media por partícula, la susceptibilidad y el calor específico para varias temperaturas, graficar el resultado y ver que a una temperatura cercana a la crítica se produce un comportamiento casi brusco. Algunos consejos:\n",
        "\n",
        "*   Para calcular la susceptibilidad y el calor específico no hay que tomar ninguna derivada, hay que usar la relación entre estas cantidades y la varianza de la magnetización y la energía por partícula respectivamente.\n",
        "*   No propongan un nuevo estado inicial para cada temperatura: aprovechen el último estado de la temperatura anterior, porque así van a necesitar menos pasos para termalizar. Si empiezan a temperaturas bajas, conviene tomar como estado inicial la matriz de unos, y si empiezan a temperaturas altas conviene tomar como estado inicial una matriz aleatoria de unos y menos unos.\n",
        "*   Conviene dar más pasos para termalizar y/o tomar promedios cerca de la temperatura crítica que lejos de ella.\n",
        "\n",
        "Aquí se muestran unos gráficos tìpicos. El de la susceptibilidad puede mejorarse.\n",
        "\n",
        "![tipicos](http://materias.df.uba.ar/ft3a2024c1/files/2024/06/tipicos.png)"
      ]
    },
    {
      "cell_type": "code",
      "execution_count": null,
      "metadata": {
        "id": "BtiMpVHs4cZw"
      },
      "outputs": [],
      "source": []
    },
    {
      "cell_type": "markdown",
      "metadata": {
        "id": "rLrQg2us4e3O"
      },
      "source": [
        "**Explicación:** usen esta celda para explicar lo que hicieron"
      ]
    },
    {
      "cell_type": "markdown",
      "metadata": {
        "id": "BUvrXLFIGJzn"
      },
      "source": [
        "Para estar seguros de que están haciendo las cosas bien, [aquí](https://drive.google.com/file/d/1sfsT2yqvdG0YHFHTcoAdrXIpef6EMv9R/view?usp=drive_link) pueden bajar el calor específico por partícula  como función de la temperatura, calculado exactamente, para la red de 32x32, y [aquí](https://drive.google.com/file/d/1zSnolG_9DMnR-k_ZillLK4VAz2N33Ztv/view?usp=drive_link) la energía media. Los archivos son dos tablas en formato .csv con resultados numéricos obtenidos a partir de la función de partición exacta. Hagan dos gráficos que muestren sus resultados experimentales comparados con las curvas teóricas. Acoten el rango de valores del eje horizontal al rango de valores experimentales. Como la red es pequeña, tiene que haber poquísimo ruido (miren la figura 16.1 de la última edición del libro de Pathria & Beale). [Aquí](https://drive.google.com/drive/folders/1qh0loWq7viENgYd0ssUEx_bLi-s-LlZC?usp=drive_link) pueden bajar los datos exactos para otras redes.\n",
        "![pathria_16_1](http://materias.df.uba.ar/ft3a2024c1/files/2024/06/pathria_16_1.png)"
      ]
    },
    {
      "cell_type": "markdown",
      "metadata": {
        "id": "9YjL9ny4e4fb"
      },
      "source": [
        "# Correlaciones\n",
        "\n",
        "La **función de correlación** se define como $g(r)=\\langle s_{ij}s_{ij+r}\\rangle-\\langle s_{ij}\\rangle\\langle s_{ij+r}\\rangle$, y se sabe que tiene la forma $g(r)=ae^{-r/\\xi}$. A $\\xi$ se lo conoce como la **longitud de correlación**, y es una función de la temperatura que, en el límite termodinámico, diverge a la temperatura crítica. El objetivo de esta sección es ver eso."
      ]
    },
    {
      "cell_type": "markdown",
      "metadata": {
        "id": "APBcV0ake9qb"
      },
      "source": [
        "Lo primero que hay que hacer es definir dos funciones. La primera, **`cor(S)`**, devuelve un vector $c$ de $L/2$ componentes, donde $L$ es el lado de la red, cuya componente $r$ es el promedio de $s_{ij}s_{ij+r}$ sobre toda la red, es decir,\n",
        "\n",
        "$c(r)=\\frac{1}{L^2}\\sum_{i,j=1}^Ls_{ij}s_{ij+r}.$\n",
        "\n",
        "La segunda función, **`metropolis2(S,prob)`**, implementa el algoritmo de Metropolis, igual que hacía la función **`metropolis(S,prob)`**, pero esta vez, en lugar de devolver el nuevo estado, el incremento de la magnetización y el incremento de energía, devuelve el nuevo estado, el incremento de la magnetización y el incremento del vector $c$. Para definir estas dos funciones deberán prestar mucha atención a las condiciones de contorno periódicas, y tener en cuenta que $c(0)=1$ independientemente del estado, así que el incremento de $c(0)$ siempre es $0$."
      ]
    },
    {
      "cell_type": "code",
      "execution_count": null,
      "metadata": {
        "id": "poWl7l8YfE6y"
      },
      "outputs": [],
      "source": [
        "@njit\n",
        "def cor(S):\n",
        "\n",
        "\n",
        "@njit\n",
        "def metropolis2(S,prob):\n"
      ]
    },
    {
      "cell_type": "markdown",
      "metadata": {
        "id": "UZU8sq8j4zQR"
      },
      "source": [
        "**Explicación:** usen esta celda para explicar lo que hicieron"
      ]
    },
    {
      "cell_type": "markdown",
      "metadata": {
        "id": "lSia9ctkgx2T"
      },
      "source": [
        "Ahora usamos las funciones que acabamos de definir para calcular la función de correlación a tres temperaturas distintas. Ajustamos los datos obtenidos con una función de la forma $a e^{-r/\\xi}$, y de ahí obtenemos la longitud de correlación a esas tres temperaturas."
      ]
    },
    {
      "cell_type": "code",
      "execution_count": null,
      "metadata": {
        "colab": {
          "base_uri": "https://localhost:8080/",
          "height": 347
        },
        "id": "Zssk32Fvg3G2",
        "outputId": "9b05db78-b036-4155-dc68-af07f20c459e"
      },
      "outputs": [
        {
          "name": "stdout",
          "output_type": "stream",
          "text": [
            "Longitud de correlacion:\n",
            "T=1.5 => 0.41215111741019683\n",
            "T=2.3 => 2.421988575154035\n",
            "T=3 => 1.1690215563697044\n"
          ]
        },
        {
          "data": {
            "image/png": "[encoded data removed]",
            "text/plain": [
              "<Figure size 432x288 with 1 Axes>"
            ]
          },
          "metadata": {
            "needs_background": "light",
            "tags": []
          },
          "output_type": "display_data"
        }
      ],
      "source": [
        "L=30\n",
        "\n",
        "nequilibrio=1000\n",
        "npromedio=50000\n",
        "\n",
        "l=int(L/2) #numero de componentes del vector c\n",
        "m=np.zeros(npromedio) #magnetizacion en funcion del paso\n",
        "c=np.zeros((l,npromedio)) #vector c en funcion del paso\n",
        "\n",
        "erres=np.arange(l) #dominio de la funcion de correlacion\n",
        "def fitcor(r,a,xi): #funcion con la que vamos a ajustar\n",
        "  return a*np.exp(-r/xi)\n",
        "\n",
        "S=np.ones((L,L),dtype=int)\n",
        "\n",
        "print('Longitud de correlacion:')\n",
        "\n",
        "for T in [1.5,2.3,3]:\n",
        "\n",
        "  beta=1/T\n",
        "\n",
        "  prob=np.array([np.exp(-4*beta),np.exp(-8*beta)])\n",
        "\n",
        "  #Termalizamos con la funcion metropolis(S,prob), que es mas rapida\n",
        "  for n in range(nequilibrio):\n",
        "    S,dm,de=metropolis(S,prob)\n",
        "\n",
        "  m[0]=np.mean(S)\n",
        "  c[:,0]=cor(S)\n",
        "\n",
        "  for n in range(1,npromedio):\n",
        "    S,dm,dc=metropolis2(S,prob)\n",
        "    m[n]=m[n-1]+dm\n",
        "    c[:,n]=c[:,n-1]+dc\n",
        "\n",
        "  mmedia=np.mean(abs(m))\n",
        "  correlacion=np.mean(c,axis=1)-mmedia**2 #funcion de correlacion\n",
        "\n",
        "  #Ajustamos:\n",
        "  parametros,covarianza=curve_fit(fitcor,erres,correlacion)\n",
        "  #(la funcion curve_fit devuelve el mejor valor de los parametros\n",
        "  #y tambien la covarianza, que no vamos a usar)\n",
        "\n",
        "  print('T={} => {}'.format(T,parametros[1]))\n",
        "\n",
        "  plt.plot(erres,fitcor(erres,parametros[0],parametros[1]),label='T={}'.format(T))\n",
        "\n",
        "plt.xlabel('r')\n",
        "plt.ylabel('funcion de correlacion')\n",
        "plt.legend()\n",
        "plt.show()"
      ]
    },
    {
      "cell_type": "markdown",
      "metadata": {
        "id": "_JHZbqdihr0C"
      },
      "source": [
        "Por último, hay que barrer un rango de temperaturas que incluya la crítica y obtener un gráfico de la longitud de correlación en función de la temperatura.\n",
        "\n",
        "Aquí hay un gráfico típico:\n",
        "\n",
        "![longitud_de_correlacion](http://materias.df.uba.ar/ft3a2024c1/files/2024/06/corr.png)"
      ]
    },
    {
      "cell_type": "code",
      "execution_count": null,
      "metadata": {
        "id": "Ng-ZnhKR48y4"
      },
      "outputs": [],
      "source": []
    },
    {
      "cell_type": "markdown",
      "metadata": {
        "id": "F11QFH9q49f2"
      },
      "source": [
        "**Explicación:** usen esta celda para explicar lo que hicieron"
      ]
    },
    {
      "cell_type": "markdown",
      "metadata": {
        "id": "gu6RFBwHbdcp"
      },
      "source": [
        "# Temperatura crítica\n",
        "\n",
        "La teoría de **finite-size scaling** (Fisher y Barber, Physical Review Letters **28**, 1972) muestra que, para una red de Ising bidimensional de lado $L$, el pico de la susceptibilidad ocurre a una temperatura $T_c(L)$ dada por\n",
        "\n",
        "$$T_c(L)=T_c+\\frac{a}{L},$$\n",
        "\n",
        "donde $T_c$ es la temperatura crítica del sistema en el límite termodinámico y $a$ es una constante. Lo que deben hacer en esta sección es determinar $T_c(L)$ para $L=15,30,60,120$ con una precisión aproximada de $0.01$, graficar en función de $1/L$, ajustar los puntos a una recta y de ahí obtener una estimación para la temperatura crítica.\n",
        "\n",
        "La figura de abajo muestra resultados para la susceptibilidad de una red de 30x30. Noten que para elegir el pico de la susceptibilidad no es una buena idea quedarse con el punto experimental más alto, porque hay bastante ruido. Ajusten una cuadrática cerca del máximo y busquen el máximo de la cuadrática. De ahí también van a poder obtener barras de error para hacer el ajuste lineal de $T_c$ y dar también un error.\n",
        "\n",
        "![](http://materias.df.uba.ar/ft3a2024c1/files/2024/06/30x30.png)\n",
        "\n",
        "Cuando entreguen el notebook completo, agreguen los 4 gráficos correspondientes con las parábolas ajustadas y los datos de los máximos y del error.\n",
        "\n",
        "Estén preparados para tener que tomar muchísimos pasos para calcular promedios en la red de 120x120. En general, empiecen haciendo mediciones espaciadas y con pocos pasos para estimar la posición del máximo y luego refinen las mediciones, con más pasos y menos amplitud de temperaturas.\n",
        "\n",
        "Abajo se muestra un ajuste típico para encontrar $T_c$.\n",
        "\n",
        "![picture](http://materias.df.uba.ar/ft3a2024c1/files/2024/06/ajuste.png)\n"
      ]
    },
    {
      "cell_type": "code",
      "execution_count": null,
      "metadata": {
        "id": "BgfGbnDH5FS7"
      },
      "outputs": [],
      "source": []
    },
    {
      "cell_type": "markdown",
      "metadata": {
        "id": "NLZvHLGF5JeS"
      },
      "source": [
        "**Explicación:** usen esta celda para explicar lo que hicieron"
      ]
    }
  ],
  "metadata": {
    "colab": {
      "provenance": []
    },
    "kernelspec": {
      "display_name": "Python 3",
      "name": "python3"
    }
  },
  "nbformat": 4,
  "nbformat_minor": 0
}
